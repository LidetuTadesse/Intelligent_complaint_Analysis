{
 "cells": [
  {
   "cell_type": "code",
   "execution_count": null,
   "id": "4e0c8e6c",
   "metadata": {},
   "outputs": [],
   "source": [
    "# Import standard libraries\n",
    "import numpy as np\n",
    "import pandas as pd\n",
    "import os\n",
    "import pickle\n",
    "import faiss\n",
    "\n",
    "# Import LangChain's text splitter\n",
    "from langchain.text_splitter import RecursiveCharacterTextSplitter\n",
    "from sentence_transformers import SentenceTransformer"
   ]
  },
  {
   "cell_type": "code",
   "execution_count": null,
   "id": "9ae68117",
   "metadata": {},
   "outputs": [],
   "source": [
    "# Define the path to the cleaned data\n",
    "clean_data_path = \"../data/filtered_complaints.csv\"\n",
    "\n",
    "# Load the cleaned dataset\n",
    "df = pd.read_csv(clean_data_path)\n",
    "\n",
    "# Preview the shape and a few rows\n",
    "print(\"Cleaned dataset shape:\", df.shape)\n",
    "df[[\"Product\", \"Cleaned_Narrative\"]].head()"
   ]
  },
  {
   "cell_type": "code",
   "execution_count": null,
   "id": "5c9ff9a8",
   "metadata": {},
   "outputs": [],
   "source": [
    "# Chunk long text using LangChain\n",
    "\n",
    "# Define the chunking strategy\n",
    "text_splitter = RecursiveCharacterTextSplitter(\n",
    "    chunk_size=300,        # number of characters per chunk\n",
    "    chunk_overlap=50,      # overlap to retain context\n",
    "    length_function=len,   # can be replaced with token count\n",
    "    separators=[\"\\n\\n\", \"\\n\", \".\", \" \"]  # split preference\n",
    ")\n",
    "\n",
    "# Apply chunking to all narratives\n",
    "all_chunks = []\n",
    "metadata = []\n",
    "\n",
    "for idx, row in df.iterrows():\n",
    "    chunks = text_splitter.split_text(row[\"Cleaned_Narrative\"])\n",
    "    all_chunks.extend(chunks)\n",
    "    metadata.extend([{\n",
    "        \"product\": row[\"Product\"],\n",
    "        \"complaint_id\": row[\"Complaint ID\"],\n",
    "        \"original_index\": idx\n",
    "    }] * len(chunks))\n",
    "\n",
    "# Check result\n",
    "print(f\"Total chunks created: {len(all_chunks)}\")\n",
    "print(f\"Sample chunk:\\n{all_chunks[0]}\")\n"
   ]
  },
  {
   "cell_type": "code",
   "execution_count": null,
   "id": "22f6943f",
   "metadata": {},
   "outputs": [],
   "source": [
    "#Create Embeddings\n",
    "# Load the embedding model\n",
    "model = SentenceTransformer('all-MiniLM-L6-v2')\n",
    "\n",
    "# Generate embeddings for each chunk\n",
    "embeddings = model.encode(all_chunks, show_progress_bar=True)\n",
    "\n",
    "# Check shape\n",
    "print(\"Total embeddings:\", len(embeddings))\n",
    "print(\"Embedding vector size:\", len(embeddings[0]))\n"
   ]
  },
  {
   "cell_type": "code",
   "execution_count": null,
   "id": "9a2cbc9b",
   "metadata": {},
   "outputs": [],
   "source": [
    "#Store embeddings in FAISS Vectore Index\n",
    "# Convert list of embeddings to NumPy array\n",
    "embedding_matrix = np.array(embeddings).astype('float32')\n",
    "\n",
    "# Create FAISS index\n",
    "index = faiss.IndexFlatL2(embedding_matrix.shape[1])  # L2 = Euclidean distance\n",
    "index.add(embedding_matrix)\n",
    "\n",
    "# Save index and metadata\n",
    "os.makedirs(\"vector_store\", exist_ok=True)\n",
    "\n",
    "faiss.write_index(index, \"vector_store/index.faiss\")\n",
    "\n",
    "with open(\"vector_store/index.pkl\", \"wb\") as f:\n",
    "    pickle.dump(metadata, f)\n",
    "\n",
    "print(\" Vector index and metadata saved to vector_store/\")\n"
   ]
  },
  {
   "cell_type": "code",
   "execution_count": null,
   "id": "9280316d",
   "metadata": {},
   "outputs": [],
   "source": [
    "#Load and Test the index\n",
    "# Load saved index\n",
    "index = faiss.read_index(\"vector_store/complaint_index.faiss\")\n",
    "\n",
    "# Load metadata\n",
    "with open(\"vector_store/metadata.pkl\", \"rb\") as f:\n",
    "    metadata = pickle.load(f)\n",
    "\n",
    "# Example: Find top 3 similar chunks to a query\n",
    "query = \"Why are customers upset about Buy Now Pay Later?\"\n",
    "query_vector = model.encode([query]).astype(\"float32\")\n",
    "\n",
    "# Search\n",
    "top_k = 3\n",
    "D, I = index.search(query_vector, top_k)\n",
    "\n",
    "print(\"\\nTop matching complaint chunks:\\n\")\n",
    "for idx in I[0]:\n",
    "    print(f\"Product: {metadata[idx]['product']}\")\n",
    "    print(f\"Complaint ID: {metadata[idx]['complaint_id']}\")\n",
    "    print(all_chunks[idx])\n",
    "    print(\"-\" * 80)\n"
   ]
  },
  {
   "cell_type": "code",
   "execution_count": null,
   "id": "d090039c",
   "metadata": {},
   "outputs": [],
   "source": []
  }
 ],
 "metadata": {
  "kernelspec": {
   "display_name": ".venv",
   "language": "python",
   "name": "python3"
  },
  "language_info": {
   "codemirror_mode": {
    "name": "ipython",
    "version": 3
   },
   "file_extension": ".py",
   "mimetype": "text/x-python",
   "name": "python",
   "nbconvert_exporter": "python",
   "pygments_lexer": "ipython3",
   "version": "3.12.7"
  }
 },
 "nbformat": 4,
 "nbformat_minor": 5
}
