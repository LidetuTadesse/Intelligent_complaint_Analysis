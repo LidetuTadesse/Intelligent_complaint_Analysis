{
 "cells": [
  {
   "cell_type": "code",
   "execution_count": null,
   "id": "808159cf",
   "metadata": {},
   "outputs": [],
   "source": [
    "# Import essential libraries\n",
    "import pandas as pd\n",
    "import matplotlib.pyplot as plt\n",
    "import seaborn as sns\n",
    "import os\n",
    "import re"
   ]
  },
  {
   "cell_type": "code",
   "execution_count": null,
   "id": "bba2d25d",
   "metadata": {},
   "outputs": [],
   "source": [
    "# Set visualization style\n",
    "sns.set(style=\"whitegrid\")\n",
    "\n",
    "# Define the path to your dataset\n",
    "data_path = \"data/raw/complaints.csv\"  # Adjust if your file is elsewhere\n",
    "\n",
    "# Load the dataset\n",
    "df = pd.read_csv(data_path, low_memory=False)\n",
    "\n",
    "# Preview the shape and first few rows\n",
    "print(\"Shape of the dataset:\", df.shape)\n",
    "df.head()"
   ]
  },
  {
   "cell_type": "code",
   "execution_count": null,
   "id": "61c5d6a2",
   "metadata": {},
   "outputs": [],
   "source": [
    "# Plot distribution of complaints by Product\n",
    "plt.figure(figsize=(12, 6))\n",
    "sns.countplot(data=df, y=\"Product\", order=df[\"Product\"].value_counts().index)\n",
    "plt.title(\"Distribution of Complaints by Product\")\n",
    "plt.xlabel(\"Number of Complaints\")\n",
    "plt.ylabel(\"Product\")\n",
    "plt.tight_layout()\n",
    "plt.show()"
   ]
  },
  {
   "cell_type": "code",
   "execution_count": null,
   "id": "d23272f4",
   "metadata": {},
   "outputs": [],
   "source": [
    "#Analyze Narrative Length\n",
    "# Calculate number of words in each narrative\n",
    "df[\"Narrative_Word_Count\"] = df[\"Consumer complaint narrative\"].astype(str).apply(lambda x: len(x.split()))\n",
    "\n",
    "# Plot histogram of narrative lengths\n",
    "plt.figure(figsize=(10, 5))\n",
    "sns.histplot(df[\"Narrative_Word_Count\"], bins=50, kde=True)\n",
    "plt.title(\"Distribution of Consumer Narrative Word Count\")\n",
    "plt.xlabel(\"Word Count\")\n",
    "plt.ylabel(\"Frequency\")\n",
    "plt.tight_layout()\n",
    "plt.show()"
   ]
  },
  {
   "cell_type": "code",
   "execution_count": null,
   "id": "b3147b39",
   "metadata": {},
   "outputs": [],
   "source": [
    "# Count entries with and without complaint narrative\n",
    "with_narrative = df[\"Consumer complaint narrative\"].notna().sum()\n",
    "without_narrative = df.shape[0] - with_narrative\n",
    "\n",
    "print(\"Complaints with narrative:\", with_narrative)\n",
    "print(\"Complaints without narrative:\", without_narrative)\n"
   ]
  },
  {
   "cell_type": "code",
   "execution_count": null,
   "id": "eecff4e8",
   "metadata": {},
   "outputs": [],
   "source": [
    "# Filter to 5 target products & Non empty narratives\n",
    "# Define the five products we care about\n",
    "target_products = [\n",
    "    \"Credit card\",\n",
    "    \"Personal loan\",\n",
    "    \"Buy Now, Pay Later (BNPL)\",\n",
    "    \"Savings account\",\n",
    "    \"Money transfers\"\n",
    "]\n",
    "\n",
    "# Filter by product and non-empty narrative\n",
    "filtered_df = df[df[\"Product\"].isin(target_products)]\n",
    "filtered_df = filtered_df[filtered_df[\"Consumer complaint narrative\"].notna()]\n",
    "filtered_df = filtered_df[filtered_df[\"Consumer complaint narrative\"].str.strip() != \"\"]\n",
    "\n",
    "# Check result\n",
    "print(\"Filtered dataset shape:\", filtered_df.shape)\n",
    "filtered_df[[\"Product\", \"Consumer complaint narrative\"]].head()\n"
   ]
  },
  {
   "cell_type": "code",
   "execution_count": null,
   "id": "00a02eb2",
   "metadata": {},
   "outputs": [],
   "source": [
    "#clean the narrative text\n",
    "# Function to clean narrative text\n",
    "def clean_text(text):\n",
    "    text = text.lower()  # Lowercase\n",
    "    text = re.sub(r\"i am writing.*?complaint.*?\\\\b\", \"\", text)  # Remove boilerplate\n",
    "    text = re.sub(r\"[^a-zA-Z0-9\\\\s]\", \"\", text)  # Remove special characters\n",
    "    text = re.sub(r\"\\\\s+\", \" \", text).strip()  # Remove extra spaces\n",
    "    return text\n",
    "\n",
    "# Apply cleaning\n",
    "filtered_df[\"Cleaned_Narrative\"] = filtered_df[\"Consumer complaint narrative\"].apply(clean_text)\n",
    "\n",
    "# Preview cleaned narratives\n",
    "filtered_df[[\"Product\", \"Cleaned_Narrative\"]].head()\n"
   ]
  },
  {
   "cell_type": "code",
   "execution_count": null,
   "id": "5fcb36d2",
   "metadata": {},
   "outputs": [],
   "source": [
    "#save cleaned data\n",
    "# Create folder if it doesn't exist\n",
    "os.makedirs(\"data\", exist_ok=True)\n",
    "\n",
    "# Save cleaned and filtered data\n",
    "filtered_df.to_csv(\"data/filtered_complaints.csv\", index=False)\n",
    "print(\"✅ Cleaned dataset saved to: data/filtered_complaints.csv\")\n"
   ]
  }
 ],
 "metadata": {
  "kernelspec": {
   "display_name": ".venv",
   "language": "python",
   "name": "python3"
  },
  "language_info": {
   "name": "python",
   "version": "3.12.7"
  }
 },
 "nbformat": 4,
 "nbformat_minor": 5
}
